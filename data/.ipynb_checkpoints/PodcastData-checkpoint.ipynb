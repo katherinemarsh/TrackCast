{
 "cells": [
  {
   "cell_type": "code",
   "execution_count": null,
   "metadata": {},
   "outputs": [],
   "source": [
    "# testing top 10 tags api\n",
    "import requests\n",
    "r = requests.get(\"https://gpodder.net/api/2/tags/10.json\")\n",
    "print(r.content)\n",
    "\n"
   ]
  },
  {
   "cell_type": "code",
   "execution_count": null,
   "metadata": {},
   "outputs": [],
   "source": [
    "# testing search by tag\n",
    "p = requests.get(\"https://gpodder.net/api/2/tag/entrepreneur/1.json\")\n",
    "print (p.content)"
   ]
  },
  {
   "cell_type": "code",
   "execution_count": null,
   "metadata": {},
   "outputs": [],
   "source": [
    "# testing user authentication with subscription api\n",
    "subs = requests.get(\"https://gpodder.net/subscriptions/kwmarsh.json\", auth=('kwmarsh', 'daanka2010'))\n",
    "import json\n",
    "myList = subs.json()\n",
    "titleList = []\n",
    "descriptionList = []\n",
    "imgList = []\n",
    "\n",
    "for podcast in myList:\n",
    "    for attribute, value in podcast.items():\n",
    "        if attribute == \"title\":\n",
    "            titleList.append(value)\n",
    "        if attribute == \"description\":\n",
    "            descriptionList.append(value)\n",
    "        if attribute == \"scaled_logo_url\": \n",
    "            imgList.append(value) \n",
    "\n",
    "    \n",
    "podcastInfo = [titleList, descriptionList, imgList]    \n",
    "\n",
    "    \n",
    "        \n",
    "        \n"
   ]
  },
  {
   "cell_type": "code",
   "execution_count": null,
   "metadata": {},
   "outputs": [],
   "source": [
    "# getting 100 tags and finding those with the highest values (most popular) to determine browsing choices\n",
    "topTags = requests.get(\"https://gpodder.net/api/2/tags/100.json\")\n",
    "import json\n",
    "tagsList = topTags.json()\n",
    "for tag in tagsList:\n",
    "    for attribute, value in tag.items():\n",
    "        if attribute == \"usage\" and value > 200:\n",
    "            print(tag)"
   ]
  },
  {
   "cell_type": "code",
   "execution_count": null,
   "metadata": {},
   "outputs": [],
   "source": [
    "# checking to see if the following urls are fixed\n",
    "feedUrls = ['http://feed.thisamericanlife.org/talpodcast?format=xml','https://www.engadget.com/rss.xml', 'https://feed.theskepticsguide.org/feed/rss']"
   ]
  },
  {
   "cell_type": "code",
   "execution_count": null,
   "metadata": {},
   "outputs": [],
   "source": [
    "# using element tree to parse through feed urls\n",
    "\n",
    "import xml.etree.cElementTree as ET\n",
    "import urllib.request  as urllib2 \n",
    "\n",
    "for url in feedUrls:\n",
    "    tree = ET.ElementTree(file=urllib2.urlopen(url))\n",
    "    root = tree.getroot()\n",
    "    print(root.tag)\n",
    "\n",
    "    allDates = []\n",
    "    for date in root.findall(\"./channel/item/pubDate\"):\n",
    "        allDates.append(date.text)\n",
    "\n",
    "    allDates = allDates[:2]\n",
    "    print(str(allDates))"
   ]
  },
  {
   "cell_type": "code",
   "execution_count": null,
   "metadata": {},
   "outputs": [],
   "source": [
    "# using datetime to find frequency of episodes to determine which should be listened to first\n",
    "from dateutil import parser\n",
    "from datetime import date\n",
    "\n",
    "allrecentEpDates = []\n",
    "\n",
    "mostRecentEp = parser.parse(allDates[0])\n",
    "\n",
    "allrecentEpDates.append(mostRecentEp)\n",
    "\n",
    "previousEp = parser.parse(allDates[1])\n",
    "\n",
    "daysBwPod = (mostRecentEp - previousEp).days\n",
    "\n",
    "print(daysBwPod)"
   ]
  }
 ],
 "metadata": {
  "kernelspec": {
   "display_name": "Python 3",
   "language": "python",
   "name": "python3"
  },
  "language_info": {
   "codemirror_mode": {
    "name": "ipython",
    "version": 3
   },
   "file_extension": ".py",
   "mimetype": "text/x-python",
   "name": "python",
   "nbconvert_exporter": "python",
   "pygments_lexer": "ipython3",
   "version": "3.6.4"
  }
 },
 "nbformat": 4,
 "nbformat_minor": 2
}
