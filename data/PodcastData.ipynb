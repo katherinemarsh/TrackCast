{
 "cells": [
  {
   "cell_type": "code",
   "execution_count": 1,
   "metadata": {},
   "outputs": [
    {
     "name": "stdout",
     "output_type": "stream",
     "text": [
      "b'[{\"title\": \"astronomie\", \"tag\": \"astronomie\", \"usage\": 18}, {\"title\": \"INFO\", \"tag\": \"info\", \"usage\": 99}, {\"title\": \"ndr\", \"tag\": \"ndr\", \"usage\": 24}, {\"title\": \"News & Politics=\", \"tag\": \"news-politics\", \"usage\": 490}, {\"title\": \"Podc\\\\u00e0sting\", \"tag\": \"podcasting\", \"usage\": 57}, {\"title\": \"Society Culture\", \"tag\": \"society-culture\", \"usage\": 512}, {\"title\": \"Songs\", \"tag\": \"songs\", \"usage\": 7}, {\"title\": \"Technology:Tech News\", \"tag\": \"technologytech-news\", \"usage\": 65}, {\"title\": \"wittenburg\", \"tag\": \"wittenburg\", \"usage\": 2}, {\"title\": \"\\\\u79d1\\\\u6280\\\\u65b0\\\\u805e\\\\u3001Technology\", \"tag\": \"technology\", \"usage\": 604}]'\n"
     ]
    }
   ],
   "source": [
    "import requests\n",
    "r = requests.get(\"https://gpodder.net/api/2/tags/10.json\")\n",
    "print(r.content)\n",
    "\n"
   ]
  },
  {
   "cell_type": "code",
   "execution_count": 2,
   "metadata": {},
   "outputs": [
    {
     "name": "stdout",
     "output_type": "stream",
     "text": [
      "b'[{\"url\": \"http://downloads.bbc.co.uk/podcasts/worldservice/tech/rss.xml\", \"title\": \"Tech Tent\", \"description\": \"How the technology business is transforming the way we live and work.\", \"subscribers\": 13, \"subscribers_last_week\": 13, \"logo_url\": \"http://ichef.bbci.co.uk/images/ic/3000x3000/p05ws6kp.jpg\", \"scaled_logo_url\": \"http://gpodder.net/logo/64/bde/bded44ee8450cabe5e7b5a9caef6925bff374f2e\", \"website\": \"http://www.bbc.co.uk/programmes/p01plr2p\", \"mygpo_link\": \"http://gpodder.net/podcast/tech-tent-business-and-technology\"}]'\n"
     ]
    }
   ],
   "source": [
    "p = requests.get(\"https://gpodder.net/api/2/tag/entrepreneur/1.json\")\n",
    "print (p.content)"
   ]
  },
  {
   "cell_type": "code",
   "execution_count": 3,
   "metadata": {},
   "outputs": [],
   "source": [
    "subs = requests.get(\"https://gpodder.net/subscriptions/kwmarsh.json\", auth=('kwmarsh', 'daanka2010'))\n",
    "import json\n",
    "myList = subs.json()\n",
    "titleList = []\n",
    "descriptionList = []\n",
    "imgList = []\n",
    "\n",
    "for podcast in myList:\n",
    "    for attribute, value in podcast.items():\n",
    "        if attribute == \"title\":\n",
    "            titleList.append(value)\n",
    "        if attribute == \"description\":\n",
    "            descriptionList.append(value)\n",
    "        if attribute == \"scaled_logo_url\": \n",
    "            imgList.append(value) \n",
    "\n",
    "    \n",
    "podcastInfo = [titleList, descriptionList, imgList]    \n",
    "\n",
    "    \n",
    "        \n",
    "        \n"
   ]
  },
  {
   "cell_type": "code",
   "execution_count": 13,
   "metadata": {},
   "outputs": [
    {
     "name": "stdout",
     "output_type": "stream",
     "text": [
      "{'title': 'ARts', 'tag': 'arts', 'usage': 215}\n",
      "{'title': 'Arts & Entertainment', 'tag': 'arts-entertainment', 'usage': 243}\n",
      "{'title': 'Comedy/', 'tag': 'comedy', 'usage': 295}\n",
      "{'title': 'Gadgets', 'tag': 'gadgets', 'usage': 1034}\n",
      "{'title': 'literature', 'tag': 'literature', 'usage': 261}\n",
      "{'title': 'News & Politics=', 'tag': 'news-politics', 'usage': 490}\n",
      "{'title': 'news.', 'tag': 'news', 'usage': 224}\n",
      "{'title': 'Other Games', 'tag': 'other-games', 'usage': 630}\n",
      "{'title': 'Performing Arts', 'tag': 'performing-arts', 'usage': 871}\n",
      "{'title': 'Public Radio', 'tag': 'public-radio', 'usage': 509}\n",
      "{'title': 'science & medicine', 'tag': 'science-medicine', 'usage': 217}\n",
      "{'title': 'Security', 'tag': 'security', 'usage': 222}\n",
      "{'title': 'Society Culture', 'tag': 'society-culture', 'usage': 512}\n",
      "{'title': 'Tech News', 'tag': 'tech-news', 'usage': 1068}\n",
      "{'title': 'éducation', 'tag': 'education', 'usage': 230}\n",
      "{'title': '科技新聞、Technology', 'tag': 'technology', 'usage': 604}\n"
     ]
    }
   ],
   "source": [
    "topTags = requests.get(\"https://gpodder.net/api/2/tags/100.json\")\n",
    "import json\n",
    "tagsList = topTags.json()\n",
    "for tag in tagsList:\n",
    "    for attribute, value in tag.items():\n",
    "        if attribute == \"usage\" and value > 200:\n",
    "            print(tag)"
   ]
  },
  {
   "cell_type": "code",
   "execution_count": 1,
   "metadata": {},
   "outputs": [],
   "source": [
    "feedUrls = [u'http://feeds.feedburner.com/linuxoutlaws', u'http://feeds.thisamericanlife.org/talpodcast', u'http://leo.am/podcasts/floss', u'http://downloads.bbc.co.uk/podcasts/radio4/fricomedy/rss.xml', u'http://feeds.feedburner.com/tedtalks_video', u'http://leo.am/podcasts/twit', u'http://downloads.bbc.co.uk/podcasts/worldservice/docarchive/rss.xml', u'http://feeds.wnyc.org/radiolab', u'http://leo.am/podcasts/sn', u'http://www.theskepticsguide.org/feed/rss.aspx?feed=SGU', u'http://www.sciencefriday.com/audio/scifriaudio.xml', u'http://www.howstuffworks.com/podcasts/stuff-you-should-know.rss', u'http://www.npr.org/rss/podcast.php?id=35', u'http://www.thenakedscientists.com/naked_scientists_podcast.xml', u'http://www.npr.org/rss/podcast.php?id=510289', u'http://downloads.bbc.co.uk/podcasts/worldservice/scia/rss.xml', u'http://leo.am/podcasts/twig', u'http://www.hackerpublicradio.org/hpr_rss.php', u'http://podcasts.engadget.com/rss.xml', u'http://feeds.feedburner.com/dancarlin/history?format=', u'http://downloads.bbc.co.uk/podcasts/radio4/iot/rss.xml', u'http://www.npr.org/rss/podcast.php?id=510208', u'http://feeds.feedburner.com/freakonomicsradio', u'http://goinglinux.com/mp3podcast.xml', u'http://feeds.feedburner.com/TheLinuxActionShow']\n"
   ]
  },
  {
   "cell_type": "code",
   "execution_count": 36,
   "metadata": {},
   "outputs": [
    {
     "name": "stdout",
     "output_type": "stream",
     "text": [
      "rss\n",
      "['Fri, 15 Jun 2018 14:54:00 +0000', 'Thu, 14 Jun 2018 19:50:21 +0000']\n"
     ]
    }
   ],
   "source": [
    "# from lxml import etree\n",
    "\n",
    "# url = 'http://leo.am/podcasts/floss'\n",
    "# root = etree.fromstring(xml, base_url=url)\n",
    "# print(root.tag)\n",
    "# # for obs in root.xpath('/ff:DataSet/ff:Series/ff:Obs'):\n",
    "# #     price = obs.xpath('./base:OBS_VALUE').text\n",
    "# #     print(price)\n",
    "\n",
    "# parseBookXML(\"view-source:http://feeds.feedburner.com/linuxoutlaws?format=xml\")\n",
    "\n",
    "import xml.etree.cElementTree as ET\n",
    "import urllib.request  as urllib2 \n",
    "\n",
    "tree = ET.ElementTree(file=urllib2.urlopen('http://feeds.feedburner.com/tedtalks_video'))\n",
    "root = tree.getroot()\n",
    "print(root.tag)\n",
    "\n",
    "allDates = []\n",
    "for date in root.findall(\"./channel/item/pubDate\"):\n",
    "    allDates.append(date.text)\n",
    "    \n",
    "allDates = allDates[:2]\n",
    "print(str(allDates))"
   ]
  },
  {
   "cell_type": "code",
   "execution_count": 35,
   "metadata": {},
   "outputs": [
    {
     "name": "stdout",
     "output_type": "stream",
     "text": [
      "7\n"
     ]
    }
   ],
   "source": [
    "from dateutil import parser\n",
    "from datetime import date\n",
    "\n",
    "allrecentEpDates = []\n",
    "\n",
    "mostRecentEp = parser.parse(allDates[0])\n",
    "\n",
    "allrecentEpDates.append(mostRecentEp)\n",
    "\n",
    "previousEp = parser.parse(allDates[1])\n",
    "\n",
    "daysBwPod = (mostRecentEp - previousEp).days\n",
    "\n",
    "print(daysBwPod)"
   ]
  }
 ],
 "metadata": {
  "kernelspec": {
   "display_name": "Python 3",
   "language": "python",
   "name": "python3"
  },
  "language_info": {
   "codemirror_mode": {
    "name": "ipython",
    "version": 3
   },
   "file_extension": ".py",
   "mimetype": "text/x-python",
   "name": "python",
   "nbconvert_exporter": "python",
   "pygments_lexer": "ipython3",
   "version": "3.6.4"
  }
 },
 "nbformat": 4,
 "nbformat_minor": 2
}
